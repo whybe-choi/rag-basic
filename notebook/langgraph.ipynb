{
 "cells": [
  {
   "cell_type": "markdown",
   "metadata": {},
   "source": [
    "# LangGraph"
   ]
  },
  {
   "cell_type": "markdown",
   "metadata": {},
   "source": [
    "- langchain에서 agent의 핵심 아이디어는 LLM으로 하여금 취해야할 행동을 스스로 정하도록 하는 것이다.\n",
    "- 모델에게 여러 도구를 알려줌으로써 현재 상황에서 어떤 도구를 사용하는 것이 적절한지 선택하도록 한다.\n",
    "- 이렇게 함으로써 모델이 수행할 수 있는 행동의 범위를 넓힐 수 있다.\n"
   ]
  },
  {
   "cell_type": "markdown",
   "metadata": {},
   "source": [
    "# Tool"
   ]
  },
  {
   "cell_type": "code",
   "execution_count": null,
   "metadata": {},
   "outputs": [],
   "source": []
  }
 ],
 "metadata": {
  "language_info": {
   "name": "python"
  }
 },
 "nbformat": 4,
 "nbformat_minor": 2
}
