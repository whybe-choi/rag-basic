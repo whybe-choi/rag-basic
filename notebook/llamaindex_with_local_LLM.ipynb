{
 "cells": [
  {
   "cell_type": "code",
   "execution_count": null,
   "metadata": {},
   "outputs": [],
   "source": [
    "from transformers import AutoTokenizer, AutoModel\n",
    "\n",
    "\n",
    "tokenizer = AutoTokenizer.from_pretrained(\"Wirter/camel-5b-hf\")\n",
    "model = AutoModel.from_pretrained(\"Wirter/camel-5b-hf\")\n",
    "\n",
    "tokenizer.save_pretrained(\"../model/camel-5b-hf\")\n",
    "model.save_pretrained(\"../model/camel-5b-hf\")\n",
    "\n",
    "tokenzier = AutoTokenizer.from_pretrained(\"BAAI/bge-small-en-v1.5\")\n",
    "model = AutoModel.from_pretrained(\"BAAI/bge-small-en-v1.5\")\n",
    "\n",
    "tokenizer.save_pretrained(\"../model/bge-small-en-v1.5\")\n",
    "model.save_pretrained(\"../model/bge-small-en-v1.5\")"
   ]
  }
 ],
 "metadata": {
  "language_info": {
   "name": "python"
  }
 },
 "nbformat": 4,
 "nbformat_minor": 2
}
